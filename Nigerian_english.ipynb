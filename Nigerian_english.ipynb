{
 "cells": [
  {
   "cell_type": "markdown",
   "id": "b0cf05d5",
   "metadata": {},
   "source": [
    "# Nigerian English classification model"
   ]
  },
  {
   "cell_type": "markdown",
   "id": "62d3043f",
   "metadata": {},
   "source": [
    "## Table of contents:\n",
    "\n",
    "1. [Importing libraries](#Libraries)\n",
    "2. [Loading dataset](#Data)\n",
    "3. [Merging Dataset](#merge)\n",
    "4. [Preprocess dataset](#Preprocess)\n",
    "5. [Model Building](#Modelling)"
   ]
  },
  {
   "cell_type": "markdown",
   "id": "04e4f7c2",
   "metadata": {},
   "source": [
    "<a name=\"Libraries\"></a>\n",
    "## 1. Importing libraries"
   ]
  },
  {
   "cell_type": "code",
   "execution_count": 72,
   "id": "ded6c1ad",
   "metadata": {},
   "outputs": [],
   "source": [
    "import nltk\n",
    "import numpy as np\n",
    "import pandas as pd\n",
    "from sklearn.feature_extraction.text import CountVectorizer\n",
    "from sklearn.model_selection import train_test_split\n",
    "from sklearn.naive_bayes import MultinomialNB\n",
    "from sklearn.neighbors import KNeighborsClassifier\n",
    "from sklearn.model_selection import train_test_split\n",
    "from sklearn.metrics import classification_report\n",
    "from transformers import BertTokenizer, BertModel\n",
    "from nltk.tokenize import word_tokenize\n",
    "from nltk.corpus import stopwords\n",
    "from nltk.stem import PorterStemmer\n",
    "from sklearn.feature_extraction.text import TfidfTransformer\n",
    "from sklearn.feature_extraction.text import TfidfVectorizer\n",
    "from sklearn.metrics import accuracy_score"
   ]
  },
  {
   "cell_type": "markdown",
   "id": "2dcffbb3",
   "metadata": {},
   "source": [
    "<a name=\"Data\"></a>\n",
    "## 2. Loading dataset"
   ]
  },
  {
   "cell_type": "markdown",
   "id": "b82cb472",
   "metadata": {},
   "source": [
    "#### imputing the Nigerian dataset manually from the Nigerian dictionary"
   ]
  },
  {
   "cell_type": "code",
   "execution_count": 57,
   "id": "680e18e1",
   "metadata": {},
   "outputs": [],
   "source": [
    "# Nigerian dataset\n",
    "nig_data = [\n",
    "    (\"I’m about leaving\", \"Nig_enlish\"),\n",
    "    (\"We love ourselves abroad\", \"Nig_enlish\"),\n",
    "    (\"it is an abuse\", \"Nig_enlish\"),\n",
    "    (\"that boy abused him well- well\", \"Nig_enlish\"),\n",
    "    (\"State government has many people chopping money. Actually!\", \"Nig_enlish\"),\n",
    "    (\"Add more!\", \"Nig_enlish\"),\n",
    "    (\"not African time, please!\", \"Nig_enlish\"),\n",
    "    (\"Some time after\", \"Nig_enlish\"),\n",
    "    (\"We will go to the market\", \"Nig_enlish\"),\n",
    "    (\"I have no money again\", \"Nig_enlish\"),\n",
    "    (\"These agric beans do not taste well or He bought an agric plough\", \"Nig_enlish\"),\n",
    "    (\"The alhajis have bought up all the petrol\", \"Nig_enlish\"),\n",
    "    (\"I believe all what you say\", \"Nig_enlish\"),\n",
    "    (\"they are among\", \"Nig_enlish\"),\n",
    "    (\"he gave me some amount\", \"Nig_enlish\"),\n",
    "    (\"Kwaran, Bayelsan\", \"Nig_enlish\"),\n",
    "    (\"they are sewing and co. for the wedding\", \"Nig_enlish\"),\n",
    "    (\"he answers Obi\", \"Nig_enlish\"),\n",
    "    (\"the children were playing in the garden, anyhow\", \"Nig_enlish\"),\n",
    "    (\"he is an applicant\", \"Nig_enlish\"),\n",
    "    (\"art by Laranto Arts,Jos\", \"Nig_enlish\"),\n",
    "    (\"art-works\", \"Nig_enlish\"),\n",
    "    (\"The designers…spared no details with aso-oke\", \"Nig_enlish\"),\n",
    "    (\"Husband and wife were wearing aso oke\", \"Nig_enlish\"),\n",
    "    (\"they give us too many assignments\", \"Nig_enlish\"),\n",
    "    (\"people were not enjoying, at all\", \"Nig_enlish\"),\n",
    "    (\"Is this man here?\", \"Nig_enlish\"),\n",
    "    (\"now he is elected Governor, automatically he will chop money\", \"Nig_enlish\"),\n",
    "    (\"my papa is in the village\", \"Nig_enlish\"),\n",
    "    (\"In America they don't back their babies as we do here\", \"Nig_enlish\"),\n",
    "    (\"I just backed him and pretended not to see him\", \"Nig_enlish\"),\n",
    "    (\"He was standing at my back\", \"Nig_enlish\"),\n",
    "    (\"a bag of money\", \"Nig_enlish\"),\n",
    "    (\"Adamu has bagged the governorship\", \"Nig_enlish\"),\n",
    "    (\"He has bagged an M.A\", \"Nig_enlish\"),\n",
    "    (\"I will balance you fifty Naira\", \"Nig_enlish\"),\n",
    "    (\"See her just balancing there feeling cool about herself\", \"Nig_enlish\"),\n",
    "    (\"I have no time to bandy with them\", \"Nig_enlish\"),\n",
    "    (\"She is barbing him\", \"Nig_enlish\"),\n",
    "    (\"Viable small businesses … are mostly in such trades as hair dressing and barbing salons, tailoring shops as well as “pure water” packaging businesses.\", \"Nig_enlish\"),\n",
    "    (\"Have you taken your bath?\", \"Nig_enlish\"),\n",
    "    (\"Do you want to bath?\", \"Nig_enlish\"),\n",
    "    (\"this moto is for you\", \"Nig_enlish\"),\n",
    "    (\"it is with him\", \"Nig_enlish\"),\n",
    "    (\"If you do that again I am going to beat you\", \"Nig_enlish\"),\n",
    "    (\"rain will beat you\", \"Nig_enlish\"),\n",
    "    (\"I will put bedsheet for you\", \"Nig_enlish\"),\n",
    "    (\"I get Beetle\", \"Nig_enlish\"),\n",
    "    (\"Do not do this thing-o, I beg!\", \"Nig_enlish\"),\n",
    "    (\"We enjoy bitterleaf soup\", \"Nig_enlish\"),\n",
    "    (\"Blindman can often be seen begging outside the mosque\", \"Nig_enlish\"),\n",
    "    (\"That black boy came to visit you\", \"Nig_enlish\"),\n",
    "    (\"That boy is just bluffing\", \"Nig_enlish\"),\n",
    "    (\"How is Bomboy?\", \"Nig_enlish\"),\n",
    "    (\"Borrow me this money\", \"Nig_enlish\"),\n",
    "    (\"But it’s the bottom men that make the leader\", \"Nig_enlish\"),\n",
    "    (\"I am going to branch at his house\", \"Nig_enlish\"),\n",
    "    (\"give me ten bread!\", \"Nig_enlish\"),\n",
    "    (\"NEPA has brought light again\", \"Nig_enlish\"),\n",
    "    (\"Bring money!\", \"Nig_enlish\"),\n",
    "    (\"Broken English\", \"Nig_enlish\"),\n",
    "    (\"take this bush track and you will burst out onto the Onitsha road\", \"Nig_enlish\"),\n",
    "    (\"In the rickety wooden huts of Tselekwu, kerosine bush lamps fight a losing battle to dispel some of the pervasive darkness.\", \"Nig_enlish\"),\n",
    "    (\"bushmeat soup\", \"Nig_enlish\"),\n",
    "    (\"buttered bread\", \"Nig_enlish\"),\n",
    "    (\"He is butchering the fish\", \"Nig_enlish\"),\n",
    "    (\"this cash-madam is too tough\", \"Nig_enlish\"),\n",
    "    (\"sickness has caught me\", \"Nig_enlish\"),\n",
    "    (\"he prefers chaiking to reading\", \"Nig_enlish\"),\n",
    "    (\"bring money, or I will charge you to court\", \"Nig_enlish\"),\n",
    "    (\"we will go check him\", \"Nig_enlish\"),\n",
    "    (\"these people only give chicken-change\", \"Nig_enlish\"),\n",
    "    (\"the thorn has chooked me\", \"Nig_enlish\"),\n",
    "    (\"can you chop rice?\", \"Nig_enlish\"),\n",
    "    (\"He has chopped too much money\", \"Nig_enlish\"),\n",
    "    (\"let us go for chop\", \"Nig_enlish\"),\n",
    "    (\"I chop-congo today\", \"Nig_enlish\"),\n",
    "    (\"since we had civilisation\", \"Nig_enlish\"),\n",
    "    (\"He is my class-mate\", \"Nig_enlish\"),\n",
    "    (\"Clean off that writing!\", \"Nig_enlish\"),\n",
    "    (\"Clear the car!\", \"Nig_enlish\"),\n",
    "    (\"Park well!\", \"Nig_enlish\"),\n",
    "    (\"climb down from that machine\", \"Nig_enlish\"),\n",
    "    (\"they have closed\", \"Nig_enlish\"),\n",
    "    (\"co-wives always quarrel\", \"Nig_enlish\"),\n",
    "    (\"Now we have reached the coal-tar again\", \"Nig_enlish\"),\n",
    "    (\"Collect your loads\", \"Nig_enlish\"),\n",
    "    (\"Our colonial masters taught us this\", \"Nig_enlish\"),\n",
    "    (\"He is showing colonial mentality\", \"Nig_enlish\"),\n",
    "    (\"I will come down here\", \"Nig_enlish\"),\n",
    "    (\"he is a company man\", \"Nig_enlish\"),\n",
    "    (\"the community forwarded their complains to higher authorities\", \"Nig_enlish\"),\n",
    "    (\"your money is not complete\", \"Nig_enlish\"),\n",
    "    (\"the market burned for complete ten days\", \"Nig_enlish\"),\n",
    "    (\"He has conceived her\", \"Nig_enlish\"),\n",
    "    (\"the moto is condemned\", \"Nig_enlish\"),\n",
    "    (\"the place is not conducive\", \"Nig_enlish\"),\n",
    "    (\"he is just a confusionist\", \"Nig_enlish\"),\n",
    "    (\"she is cooking the water\", \"Nig_enlish\"),\n",
    "    (\"That song is copyright.\", \"Nig_enlish\"),\n",
    "    (\"they are not correct\", \"Nig_enlish\")\n",
    "]\n",
    "\n"
   ]
  },
  {
   "cell_type": "code",
   "execution_count": 58,
   "id": "91eb2c2e",
   "metadata": {},
   "outputs": [
    {
     "data": {
      "text/plain": [
       "[('I’m about leaving', 'Nig_enlish'),\n",
       " ('We love ourselves abroad', 'Nig_enlish'),\n",
       " ('it is an abuse', 'Nig_enlish'),\n",
       " ('that boy abused him well- well', 'Nig_enlish'),\n",
       " ('State government has many people chopping money. Actually!', 'Nig_enlish'),\n",
       " ('Add more!', 'Nig_enlish'),\n",
       " ('not African time, please!', 'Nig_enlish'),\n",
       " ('Some time after', 'Nig_enlish'),\n",
       " ('We will go to the market', 'Nig_enlish'),\n",
       " ('I have no money again', 'Nig_enlish'),\n",
       " ('These agric beans do not taste well or He bought an agric plough',\n",
       "  'Nig_enlish'),\n",
       " ('The alhajis have bought up all the petrol', 'Nig_enlish'),\n",
       " ('I believe all what you say', 'Nig_enlish'),\n",
       " ('they are among', 'Nig_enlish'),\n",
       " ('he gave me some amount', 'Nig_enlish'),\n",
       " ('Kwaran, Bayelsan', 'Nig_enlish'),\n",
       " ('they are sewing and co. for the wedding', 'Nig_enlish'),\n",
       " ('he answers Obi', 'Nig_enlish'),\n",
       " ('the children were playing in the garden, anyhow', 'Nig_enlish'),\n",
       " ('he is an applicant', 'Nig_enlish'),\n",
       " ('art by Laranto Arts,Jos', 'Nig_enlish'),\n",
       " ('art-works', 'Nig_enlish'),\n",
       " ('The designers…spared no details with aso-oke', 'Nig_enlish'),\n",
       " ('Husband and wife were wearing aso oke', 'Nig_enlish'),\n",
       " ('they give us too many assignments', 'Nig_enlish'),\n",
       " ('people were not enjoying, at all', 'Nig_enlish'),\n",
       " ('Is this man here?', 'Nig_enlish'),\n",
       " ('now he is elected Governor, automatically he will chop money',\n",
       "  'Nig_enlish'),\n",
       " ('my papa is in the village', 'Nig_enlish'),\n",
       " (\"In America they don't back their babies as we do here\", 'Nig_enlish'),\n",
       " ('I just backed him and pretended not to see him', 'Nig_enlish'),\n",
       " ('He was standing at my back', 'Nig_enlish'),\n",
       " ('a bag of money', 'Nig_enlish'),\n",
       " ('Adamu has bagged the governorship', 'Nig_enlish'),\n",
       " ('He has bagged an M.A', 'Nig_enlish'),\n",
       " ('I will balance you fifty Naira', 'Nig_enlish'),\n",
       " ('See her just balancing there feeling cool about herself', 'Nig_enlish'),\n",
       " ('I have no time to bandy with them', 'Nig_enlish'),\n",
       " ('She is barbing him', 'Nig_enlish'),\n",
       " ('Viable small businesses … are mostly in such trades as hair dressing and barbing salons, tailoring shops as well as “pure water” packaging businesses.',\n",
       "  'Nig_enlish'),\n",
       " ('Have you taken your bath?', 'Nig_enlish'),\n",
       " ('Do you want to bath?', 'Nig_enlish'),\n",
       " ('this moto is for you', 'Nig_enlish'),\n",
       " ('it is with him', 'Nig_enlish'),\n",
       " ('If you do that again I am going to beat you', 'Nig_enlish'),\n",
       " ('rain will beat you', 'Nig_enlish'),\n",
       " ('I will put bedsheet for you', 'Nig_enlish'),\n",
       " ('I get Beetle', 'Nig_enlish'),\n",
       " ('Do not do this thing-o, I beg!', 'Nig_enlish'),\n",
       " ('We enjoy bitterleaf soup', 'Nig_enlish'),\n",
       " ('Blindman can often be seen begging outside the mosque', 'Nig_enlish'),\n",
       " ('That black boy came to visit you', 'Nig_enlish'),\n",
       " ('That boy is just bluffing', 'Nig_enlish'),\n",
       " ('How is Bomboy?', 'Nig_enlish'),\n",
       " ('Borrow me this money', 'Nig_enlish'),\n",
       " ('But it’s the bottom men that make the leader', 'Nig_enlish'),\n",
       " ('I am going to branch at his house', 'Nig_enlish'),\n",
       " ('give me ten bread!', 'Nig_enlish'),\n",
       " ('NEPA has brought light again', 'Nig_enlish'),\n",
       " ('Bring money!', 'Nig_enlish'),\n",
       " ('Broken English', 'Nig_enlish'),\n",
       " ('take this bush track and you will burst out onto the Onitsha road',\n",
       "  'Nig_enlish'),\n",
       " ('In the rickety wooden huts of Tselekwu, kerosine bush lamps fight a losing battle to dispel some of the pervasive darkness.',\n",
       "  'Nig_enlish'),\n",
       " ('bushmeat soup', 'Nig_enlish'),\n",
       " ('buttered bread', 'Nig_enlish'),\n",
       " ('He is butchering the fish', 'Nig_enlish'),\n",
       " ('this cash-madam is too tough', 'Nig_enlish'),\n",
       " ('sickness has caught me', 'Nig_enlish'),\n",
       " ('he prefers chaiking to reading', 'Nig_enlish'),\n",
       " ('bring money, or I will charge you to court', 'Nig_enlish'),\n",
       " ('we will go check him', 'Nig_enlish'),\n",
       " ('these people only give chicken-change', 'Nig_enlish'),\n",
       " ('the thorn has chooked me', 'Nig_enlish'),\n",
       " ('can you chop rice?', 'Nig_enlish'),\n",
       " ('He has chopped too much money', 'Nig_enlish'),\n",
       " ('let us go for chop', 'Nig_enlish'),\n",
       " ('I chop-congo today', 'Nig_enlish'),\n",
       " ('since we had civilisation', 'Nig_enlish'),\n",
       " ('He is my class-mate', 'Nig_enlish'),\n",
       " ('Clean off that writing!', 'Nig_enlish'),\n",
       " ('Clear the car!', 'Nig_enlish'),\n",
       " ('Park well!', 'Nig_enlish'),\n",
       " ('climb down from that machine', 'Nig_enlish'),\n",
       " ('they have closed', 'Nig_enlish'),\n",
       " ('co-wives always quarrel', 'Nig_enlish'),\n",
       " ('Now we have reached the coal-tar again', 'Nig_enlish'),\n",
       " ('Collect your loads', 'Nig_enlish'),\n",
       " ('Our colonial masters taught us this', 'Nig_enlish'),\n",
       " ('He is showing colonial mentality', 'Nig_enlish'),\n",
       " ('I will come down here', 'Nig_enlish'),\n",
       " ('he is a company man', 'Nig_enlish'),\n",
       " ('the community forwarded their complains to higher authorities',\n",
       "  'Nig_enlish'),\n",
       " ('your money is not complete', 'Nig_enlish'),\n",
       " ('the market burned for complete ten days', 'Nig_enlish'),\n",
       " ('He has conceived her', 'Nig_enlish'),\n",
       " ('the moto is condemned', 'Nig_enlish'),\n",
       " ('the place is not conducive', 'Nig_enlish'),\n",
       " ('he is just a confusionist', 'Nig_enlish'),\n",
       " ('she is cooking the water', 'Nig_enlish'),\n",
       " ('That song is copyright.', 'Nig_enlish'),\n",
       " ('they are not correct', 'Nig_enlish')]"
      ]
     },
     "execution_count": 58,
     "metadata": {},
     "output_type": "execute_result"
    }
   ],
   "source": [
    "nig_data"
   ]
  },
  {
   "cell_type": "code",
   "execution_count": 59,
   "id": "dd4833a0",
   "metadata": {},
   "outputs": [],
   "source": [
    "# Converting the list of tuples into a DataFrame\n",
    "columns = ['Text', 'label']\n",
    "nig_data = pd.DataFrame(nig_data, columns=columns)"
   ]
  },
  {
   "cell_type": "code",
   "execution_count": 60,
   "id": "4fe233f9",
   "metadata": {},
   "outputs": [
    {
     "data": {
      "text/html": [
       "<div>\n",
       "<style scoped>\n",
       "    .dataframe tbody tr th:only-of-type {\n",
       "        vertical-align: middle;\n",
       "    }\n",
       "\n",
       "    .dataframe tbody tr th {\n",
       "        vertical-align: top;\n",
       "    }\n",
       "\n",
       "    .dataframe thead th {\n",
       "        text-align: right;\n",
       "    }\n",
       "</style>\n",
       "<table border=\"1\" class=\"dataframe\">\n",
       "  <thead>\n",
       "    <tr style=\"text-align: right;\">\n",
       "      <th></th>\n",
       "      <th>Text</th>\n",
       "      <th>label</th>\n",
       "    </tr>\n",
       "  </thead>\n",
       "  <tbody>\n",
       "    <tr>\n",
       "      <th>0</th>\n",
       "      <td>I’m about leaving</td>\n",
       "      <td>Nig_enlish</td>\n",
       "    </tr>\n",
       "    <tr>\n",
       "      <th>1</th>\n",
       "      <td>We love ourselves abroad</td>\n",
       "      <td>Nig_enlish</td>\n",
       "    </tr>\n",
       "    <tr>\n",
       "      <th>2</th>\n",
       "      <td>it is an abuse</td>\n",
       "      <td>Nig_enlish</td>\n",
       "    </tr>\n",
       "    <tr>\n",
       "      <th>3</th>\n",
       "      <td>that boy abused him well- well</td>\n",
       "      <td>Nig_enlish</td>\n",
       "    </tr>\n",
       "    <tr>\n",
       "      <th>4</th>\n",
       "      <td>State government has many people chopping mone...</td>\n",
       "      <td>Nig_enlish</td>\n",
       "    </tr>\n",
       "    <tr>\n",
       "      <th>...</th>\n",
       "      <td>...</td>\n",
       "      <td>...</td>\n",
       "    </tr>\n",
       "    <tr>\n",
       "      <th>96</th>\n",
       "      <td>the place is not conducive</td>\n",
       "      <td>Nig_enlish</td>\n",
       "    </tr>\n",
       "    <tr>\n",
       "      <th>97</th>\n",
       "      <td>he is just a confusionist</td>\n",
       "      <td>Nig_enlish</td>\n",
       "    </tr>\n",
       "    <tr>\n",
       "      <th>98</th>\n",
       "      <td>she is cooking the water</td>\n",
       "      <td>Nig_enlish</td>\n",
       "    </tr>\n",
       "    <tr>\n",
       "      <th>99</th>\n",
       "      <td>That song is copyright.</td>\n",
       "      <td>Nig_enlish</td>\n",
       "    </tr>\n",
       "    <tr>\n",
       "      <th>100</th>\n",
       "      <td>they are not correct</td>\n",
       "      <td>Nig_enlish</td>\n",
       "    </tr>\n",
       "  </tbody>\n",
       "</table>\n",
       "<p>101 rows × 2 columns</p>\n",
       "</div>"
      ],
      "text/plain": [
       "                                                  Text       label\n",
       "0                                    I’m about leaving  Nig_enlish\n",
       "1                             We love ourselves abroad  Nig_enlish\n",
       "2                                       it is an abuse  Nig_enlish\n",
       "3                       that boy abused him well- well  Nig_enlish\n",
       "4    State government has many people chopping mone...  Nig_enlish\n",
       "..                                                 ...         ...\n",
       "96                          the place is not conducive  Nig_enlish\n",
       "97                           he is just a confusionist  Nig_enlish\n",
       "98                            she is cooking the water  Nig_enlish\n",
       "99                             That song is copyright.  Nig_enlish\n",
       "100                               they are not correct  Nig_enlish\n",
       "\n",
       "[101 rows x 2 columns]"
      ]
     },
     "execution_count": 60,
     "metadata": {},
     "output_type": "execute_result"
    }
   ],
   "source": [
    "nig_data"
   ]
  },
  {
   "cell_type": "markdown",
   "id": "aadd4879",
   "metadata": {},
   "source": [
    "#### importing the English dataset"
   ]
  },
  {
   "cell_type": "code",
   "execution_count": 44,
   "id": "e26b273e",
   "metadata": {},
   "outputs": [],
   "source": [
    "eng_data = pd.read_csv(r'C:\\Users\\ADMIN\\Documents\\BERT\\brown.csv')\n",
    "column_en = eng_data['tokenized_text'][:101]"
   ]
  },
  {
   "cell_type": "code",
   "execution_count": 43,
   "id": "1532dea2",
   "metadata": {},
   "outputs": [],
   "source": [
    "# Removing unnecessary symbols and keeping only text\n",
    "def remove_symbols(text):\n",
    "    new_business = ''\n",
    "    for i in (text):\n",
    "        if (i == np.nan):\n",
    "            new_business += ' '\n",
    "        if (i.isalpha() or i == ' '):\n",
    "            new_business += i\n",
    "    return(new_business)"
   ]
  },
  {
   "cell_type": "code",
   "execution_count": null,
   "id": "e79284b7",
   "metadata": {},
   "outputs": [],
   "source": [
    "column_en = column_en.apply(remove_symbols)"
   ]
  },
  {
   "cell_type": "code",
   "execution_count": 46,
   "id": "810adb3f",
   "metadata": {},
   "outputs": [
    {
     "data": {
      "text/plain": [
       "0      Furthermore  as an encouragement to revisionis...\n",
       "1      The Unitarian clergy were an exclusive club of...\n",
       "2      Ezra Stiles Gannett  an honorable representati...\n",
       "3      Even so  Gannett judiciously argued  the Assoc...\n",
       "4      We today are not entitled to excoriate honest ...\n",
       "                             ...                        \n",
       "96     It is hardly possible to emphasize this too much \n",
       "97     Most people do not realize that the congregati...\n",
       "98     The idea that it is a feature of all religions...\n",
       "99     The Jewish synagogue affords a parallel to the...\n",
       "100    Their characteristic experience is that of the...\n",
       "Name: tokenized_text, Length: 101, dtype: object"
      ]
     },
     "execution_count": 46,
     "metadata": {},
     "output_type": "execute_result"
    }
   ],
   "source": [
    "column_en"
   ]
  },
  {
   "cell_type": "markdown",
   "id": "6301e825",
   "metadata": {},
   "source": [
    "<a name=\"merge\"></a>\n",
    "## 3. Merging Dataset"
   ]
  },
  {
   "cell_type": "code",
   "execution_count": 61,
   "id": "1d045e1e",
   "metadata": {},
   "outputs": [
    {
     "name": "stdout",
     "output_type": "stream",
     "text": [
      "                                                  Text  label\n",
      "0                                    I’m about leaving      1\n",
      "1                             We love ourselves abroad      1\n",
      "2                                       it is an abuse      1\n",
      "3                       that boy abused him well- well      1\n",
      "4    State government has many people chopping mone...      1\n",
      "..                                                 ...    ...\n",
      "96   It is hardly possible to emphasize this too much       0\n",
      "97   Most people do not realize that the congregati...      0\n",
      "98   The idea that it is a feature of all religions...      0\n",
      "99   The Jewish synagogue affords a parallel to the...      0\n",
      "100  Their characteristic experience is that of the...      0\n",
      "\n",
      "[202 rows x 2 columns]\n"
     ]
    }
   ],
   "source": [
    "df_1 = nig_data.copy()\n",
    "df_1[\"label\"] = 1\n",
    "\n",
    "df_2 = pd.DataFrame([column_en]).transpose()\n",
    "df_2[\"label\"] = 0\n",
    "df_2.rename(columns = {'tokenized_text':'Text'}, inplace = True)\n",
    "\n",
    "df = pd.concat([df_1, df_2])\n",
    "print(df)"
   ]
  },
  {
   "cell_type": "markdown",
   "id": "e3d8bcdc",
   "metadata": {},
   "source": [
    "<a name=\"Preprocess\"></a>\n",
    "## 4. Preprocessing Dataset"
   ]
  },
  {
   "cell_type": "code",
   "execution_count": 64,
   "id": "9edf7e37",
   "metadata": {},
   "outputs": [
    {
     "name": "stderr",
     "output_type": "stream",
     "text": [
      "[nltk_data] Downloading package punkt to\n",
      "[nltk_data]     C:\\Users\\ADMIN\\AppData\\Roaming\\nltk_data...\n",
      "[nltk_data]   Package punkt is already up-to-date!\n",
      "[nltk_data] Downloading package stopwords to\n",
      "[nltk_data]     C:\\Users\\ADMIN\\AppData\\Roaming\\nltk_data...\n",
      "[nltk_data]   Package stopwords is already up-to-date!\n"
     ]
    }
   ],
   "source": [
    "# Download NLTK stopwords\n",
    "nltk.download('punkt')\n",
    "nltk.download('stopwords')\n",
    "\n",
    "# Preprocessing function\n",
    "def preprocess_text(text):\n",
    "    tokens = word_tokenize(text)\n",
    "    tokens = [word.lower() for word in tokens if word.isalpha()]\n",
    "    tokens = [word for word in tokens if word not in stopwords.words('english')]\n",
    "    stemmer = PorterStemmer()\n",
    "    tokens = [stemmer.stem(word) for word in tokens]\n",
    "    preprocessed_text = ' '.join(tokens)\n",
    "    return preprocessed_text\n",
    "\n",
    "df['Preprocessed Text'] = df['Text'].apply(preprocess_text)"
   ]
  },
  {
   "cell_type": "code",
   "execution_count": 65,
   "id": "b3f90341",
   "metadata": {},
   "outputs": [
    {
     "data": {
      "text/html": [
       "<div>\n",
       "<style scoped>\n",
       "    .dataframe tbody tr th:only-of-type {\n",
       "        vertical-align: middle;\n",
       "    }\n",
       "\n",
       "    .dataframe tbody tr th {\n",
       "        vertical-align: top;\n",
       "    }\n",
       "\n",
       "    .dataframe thead th {\n",
       "        text-align: right;\n",
       "    }\n",
       "</style>\n",
       "<table border=\"1\" class=\"dataframe\">\n",
       "  <thead>\n",
       "    <tr style=\"text-align: right;\">\n",
       "      <th></th>\n",
       "      <th>Text</th>\n",
       "      <th>label</th>\n",
       "      <th>Preprocessed Text</th>\n",
       "    </tr>\n",
       "  </thead>\n",
       "  <tbody>\n",
       "    <tr>\n",
       "      <th>0</th>\n",
       "      <td>I’m about leaving</td>\n",
       "      <td>1</td>\n",
       "      <td>leav</td>\n",
       "    </tr>\n",
       "    <tr>\n",
       "      <th>1</th>\n",
       "      <td>We love ourselves abroad</td>\n",
       "      <td>1</td>\n",
       "      <td>love abroad</td>\n",
       "    </tr>\n",
       "    <tr>\n",
       "      <th>2</th>\n",
       "      <td>it is an abuse</td>\n",
       "      <td>1</td>\n",
       "      <td>abus</td>\n",
       "    </tr>\n",
       "    <tr>\n",
       "      <th>3</th>\n",
       "      <td>that boy abused him well- well</td>\n",
       "      <td>1</td>\n",
       "      <td>boy abus well</td>\n",
       "    </tr>\n",
       "    <tr>\n",
       "      <th>4</th>\n",
       "      <td>State government has many people chopping mone...</td>\n",
       "      <td>1</td>\n",
       "      <td>state govern mani peopl chop money actual</td>\n",
       "    </tr>\n",
       "  </tbody>\n",
       "</table>\n",
       "</div>"
      ],
      "text/plain": [
       "                                                Text  label  \\\n",
       "0                                  I’m about leaving      1   \n",
       "1                           We love ourselves abroad      1   \n",
       "2                                     it is an abuse      1   \n",
       "3                     that boy abused him well- well      1   \n",
       "4  State government has many people chopping mone...      1   \n",
       "\n",
       "                           Preprocessed Text  \n",
       "0                                       leav  \n",
       "1                                love abroad  \n",
       "2                                       abus  \n",
       "3                              boy abus well  \n",
       "4  state govern mani peopl chop money actual  "
      ]
     },
     "execution_count": 65,
     "metadata": {},
     "output_type": "execute_result"
    }
   ],
   "source": [
    "df.head()"
   ]
  },
  {
   "cell_type": "code",
   "execution_count": 66,
   "id": "4781e3fa",
   "metadata": {},
   "outputs": [],
   "source": [
    "# Split dataset into features and labels\n",
    "#X = [message[0] for message in messages]\n",
    "#y = [message[1] for message in messages]\n",
    "\n",
    "X=df.drop('label',axis=1)\n",
    "y=df['label']"
   ]
  },
  {
   "cell_type": "code",
   "execution_count": 70,
   "id": "7e6ca1f1",
   "metadata": {},
   "outputs": [],
   "source": [
    "vectorizer = CountVectorizer(max_features=300, min_df=1, max_df=0.8)\n",
    "X = vectorizer.fit_transform(df['Text']).toarray()"
   ]
  },
  {
   "cell_type": "code",
   "execution_count": 73,
   "id": "2705ebda",
   "metadata": {},
   "outputs": [],
   "source": [
    "tfidfconverter = TfidfTransformer()\n",
    "X = tfidfconverter.fit_transform(X).toarray()"
   ]
  },
  {
   "cell_type": "code",
   "execution_count": 75,
   "id": "74cd1342",
   "metadata": {},
   "outputs": [],
   "source": [
    "from sklearn.model_selection import train_test_split\n",
    "p = np.random.permutation(len(X))\n",
    "X_train, X_test, y_train, y_test = train_test_split(X[p], df['label'].iloc[p], test_size=0.2, random_state=0)"
   ]
  },
  {
   "cell_type": "code",
   "execution_count": 81,
   "id": "36f53254",
   "metadata": {},
   "outputs": [
    {
     "data": {
      "text/plain": [
       "array([[0.        , 0.        , 0.        , ..., 0.        , 0.        ,\n",
       "        0.        ],\n",
       "       [0.        , 0.        , 0.        , ..., 0.        , 0.        ,\n",
       "        0.        ],\n",
       "       [0.        , 0.23859303, 0.        , ..., 0.        , 0.        ,\n",
       "        0.        ],\n",
       "       ...,\n",
       "       [0.        , 0.        , 0.        , ..., 0.        , 0.        ,\n",
       "        0.        ],\n",
       "       [0.        , 0.        , 0.        , ..., 0.        , 0.        ,\n",
       "        0.        ],\n",
       "       [0.        , 0.        , 0.        , ..., 0.        , 0.        ,\n",
       "        0.        ]])"
      ]
     },
     "execution_count": 81,
     "metadata": {},
     "output_type": "execute_result"
    }
   ],
   "source": [
    "X_train"
   ]
  },
  {
   "cell_type": "code",
   "execution_count": null,
   "id": "b5614dfc",
   "metadata": {},
   "outputs": [],
   "source": []
  },
  {
   "cell_type": "markdown",
   "id": "bfd59907",
   "metadata": {},
   "source": [
    "<a name=\"Modelling\"></a>\n",
    "## 7.  Model Building"
   ]
  },
  {
   "cell_type": "markdown",
   "id": "9e816583",
   "metadata": {},
   "source": [
    "### KNN Classifier"
   ]
  },
  {
   "cell_type": "code",
   "execution_count": 76,
   "id": "8e7ca3c0",
   "metadata": {},
   "outputs": [
    {
     "name": "stdout",
     "output_type": "stream",
     "text": [
      "KNN Accuracy: 0.5609756097560976\n",
      "KNN Classification Report:\n",
      "               precision    recall  f1-score   support\n",
      "\n",
      "           0       0.00      0.00      0.00        18\n",
      "           1       0.56      1.00      0.72        23\n",
      "\n",
      "    accuracy                           0.56        41\n",
      "   macro avg       0.28      0.50      0.36        41\n",
      "weighted avg       0.31      0.56      0.40        41\n",
      "\n"
     ]
    },
    {
     "name": "stderr",
     "output_type": "stream",
     "text": [
      "C:\\Users\\ADMIN\\anaconda3\\lib\\site-packages\\sklearn\\metrics\\_classification.py:1327: UndefinedMetricWarning: Precision and F-score are ill-defined and being set to 0.0 in labels with no predicted samples. Use `zero_division` parameter to control this behavior.\n",
      "  _warn_prf(average, modifier, msg_start, len(result))\n",
      "C:\\Users\\ADMIN\\anaconda3\\lib\\site-packages\\sklearn\\metrics\\_classification.py:1327: UndefinedMetricWarning: Precision and F-score are ill-defined and being set to 0.0 in labels with no predicted samples. Use `zero_division` parameter to control this behavior.\n",
      "  _warn_prf(average, modifier, msg_start, len(result))\n",
      "C:\\Users\\ADMIN\\anaconda3\\lib\\site-packages\\sklearn\\metrics\\_classification.py:1327: UndefinedMetricWarning: Precision and F-score are ill-defined and being set to 0.0 in labels with no predicted samples. Use `zero_division` parameter to control this behavior.\n",
      "  _warn_prf(average, modifier, msg_start, len(result))\n"
     ]
    }
   ],
   "source": [
    "# Train KNN classifier\n",
    "knn_classifier = KNeighborsClassifier(n_neighbors=3)\n",
    "knn_classifier.fit(X_train, y_train)\n",
    "knn_predictions = knn_classifier.predict(X_test)\n",
    "knn_accuracy = accuracy_score(y_test, knn_predictions)\n",
    "\n",
    "print(\"KNN Accuracy:\", knn_accuracy)\n",
    "print(\"KNN Classification Report:\\n\", classification_report(y_test, knn_predictions))\n"
   ]
  },
  {
   "cell_type": "markdown",
   "id": "3eab0a1c",
   "metadata": {},
   "source": [
    "### Naives Bayes Classifier"
   ]
  },
  {
   "cell_type": "code",
   "execution_count": 77,
   "id": "582dbbc7",
   "metadata": {},
   "outputs": [
    {
     "name": "stdout",
     "output_type": "stream",
     "text": [
      "Naive Bayes Accuracy: 0.7073170731707317\n",
      "Naive Bayes Classification Report:\n",
      "               precision    recall  f1-score   support\n",
      "\n",
      "           0       0.61      0.94      0.74        18\n",
      "           1       0.92      0.52      0.67        23\n",
      "\n",
      "    accuracy                           0.71        41\n",
      "   macro avg       0.77      0.73      0.70        41\n",
      "weighted avg       0.78      0.71      0.70        41\n",
      "\n"
     ]
    }
   ],
   "source": [
    "# Naive Bayes Classifier\n",
    "nb_classifier = MultinomialNB()\n",
    "nb_classifier.fit(X_train, y_train)\n",
    "nb_predictions = nb_classifier.predict(X_test)\n",
    "nb_accuracy = accuracy_score(y_test, nb_predictions)\n",
    "\n",
    "print(\"Naive Bayes Accuracy:\", nb_accuracy)\n",
    "print(\"Naive Bayes Classification Report:\\n\", classification_report(y_test, nb_predictions))"
   ]
  },
  {
   "cell_type": "code",
   "execution_count": null,
   "id": "97145c87",
   "metadata": {},
   "outputs": [],
   "source": []
  }
 ],
 "metadata": {
  "kernelspec": {
   "display_name": "Python 3 (ipykernel)",
   "language": "python",
   "name": "python3"
  },
  "language_info": {
   "codemirror_mode": {
    "name": "ipython",
    "version": 3
   },
   "file_extension": ".py",
   "mimetype": "text/x-python",
   "name": "python",
   "nbconvert_exporter": "python",
   "pygments_lexer": "ipython3",
   "version": "3.9.7"
  }
 },
 "nbformat": 4,
 "nbformat_minor": 5
}
